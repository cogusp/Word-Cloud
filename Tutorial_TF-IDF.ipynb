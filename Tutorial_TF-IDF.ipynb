{
 "cells": [
  {
   "cell_type": "markdown",
   "id": "9c36d263-7771-459d-8e2b-41b9464b328d",
   "metadata": {
    "tags": []
   },
   "source": [
    "# TF-IDF"
   ]
  },
  {
   "cell_type": "markdown",
   "id": "4270d86e-38f4-41a4-9d7b-7063848cf418",
   "metadata": {
    "tags": []
   },
   "source": [
    "### Train the Corpus"
   ]
  },
  {
   "cell_type": "code",
   "execution_count": 3,
   "id": "6a83fab4-bb09-447f-9145-8a9cbaced712",
   "metadata": {},
   "outputs": [
    {
     "name": "stdout",
     "output_type": "stream",
     "text": [
      "Defaulting to user installation because normal site-packages is not writeable\n",
      "Requirement already satisfied: gensim in ./.local/lib/python3.8/site-packages (4.3.2)\n",
      "Requirement already satisfied: numpy>=1.18.5 in /usr/local/lib/python3.8/dist-packages (from gensim) (1.24.4)\n",
      "Requirement already satisfied: scipy>=1.7.0 in ./.local/lib/python3.8/site-packages (from gensim) (1.10.1)\n",
      "Requirement already satisfied: smart-open>=1.8.1 in ./.local/lib/python3.8/site-packages (from gensim) (7.0.1)\n",
      "Requirement already satisfied: wrapt in /usr/local/lib/python3.8/dist-packages (from smart-open>=1.8.1->gensim) (1.14.0)\n",
      "\u001b[33mDEPRECATION: distro-info 0.23ubuntu1 has a non-standard version number. pip 24.1 will enforce this behaviour change. A possible replacement is to upgrade to a newer version of distro-info or contact the author to suggest that they release a version with a conforming version number. Discussion can be found at https://github.com/pypa/pip/issues/12063\u001b[0m\u001b[33m\n",
      "\u001b[0m\u001b[33mDEPRECATION: python-debian 0.1.36ubuntu1 has a non-standard version number. pip 24.1 will enforce this behaviour change. A possible replacement is to upgrade to a newer version of python-debian or contact the author to suggest that they release a version with a conforming version number. Discussion can be found at https://github.com/pypa/pip/issues/12063\u001b[0m\u001b[33m\n",
      "\u001b[0mDefaulting to user installation because normal site-packages is not writeable\n",
      "Collecting pprintpp\n",
      "  Downloading pprintpp-0.4.0-py2.py3-none-any.whl.metadata (7.9 kB)\n",
      "Downloading pprintpp-0.4.0-py2.py3-none-any.whl (16 kB)\n",
      "\u001b[33mDEPRECATION: distro-info 0.23ubuntu1 has a non-standard version number. pip 24.1 will enforce this behaviour change. A possible replacement is to upgrade to a newer version of distro-info or contact the author to suggest that they release a version with a conforming version number. Discussion can be found at https://github.com/pypa/pip/issues/12063\u001b[0m\u001b[33m\n",
      "\u001b[0m\u001b[33mDEPRECATION: python-debian 0.1.36ubuntu1 has a non-standard version number. pip 24.1 will enforce this behaviour change. A possible replacement is to upgrade to a newer version of python-debian or contact the author to suggest that they release a version with a conforming version number. Discussion can be found at https://github.com/pypa/pip/issues/12063\u001b[0m\u001b[33m\n",
      "\u001b[0mInstalling collected packages: pprintpp\n",
      "\u001b[33m  WARNING: The script pypprint is installed in '/home/cogusp/.local/bin' which is not on PATH.\n",
      "  Consider adding this directory to PATH or, if you prefer to suppress this warning, use --no-warn-script-location.\u001b[0m\u001b[33m\n",
      "\u001b[0mSuccessfully installed pprintpp-0.4.0\n"
     ]
    }
   ],
   "source": [
    "!pip install gensim\n",
    "!pip install pprintpp"
   ]
  },
  {
   "cell_type": "markdown",
   "id": "ff4f5483-5f4f-4244-96ec-9d8ffeebcbe1",
   "metadata": {},
   "source": [
    "- Import the necessary packages"
   ]
  },
  {
   "cell_type": "code",
   "execution_count": 4,
   "id": "97f35708-fa4a-46ec-baab-f94c56c99bcb",
   "metadata": {},
   "outputs": [],
   "source": [
    "import gensim\n",
    "import pprint\n",
    "from gensim import corpora\n",
    "from gensim.utils import simple_preprocess"
   ]
  },
  {
   "cell_type": "markdown",
   "id": "ac7c6c32-1ced-4c50-b413-3b6db490b02a",
   "metadata": {},
   "source": [
    "- Three sentences in list"
   ]
  },
  {
   "cell_type": "code",
   "execution_count": 6,
   "id": "957c336e-2996-4937-81fd-55d47852b058",
   "metadata": {},
   "outputs": [],
   "source": [
    "doc_list = [\n",
    "    \"Hello, how are you?\",\n",
    "    \"How do you do?\",\n",
    "    \"Hey what are you doing? yes you What are you doing?\"\n",
    "]"
   ]
  },
  {
   "cell_type": "markdown",
   "id": "92a29470-8670-412a-863e-c827c84ca1c4",
   "metadata": {},
   "source": [
    "- Tokenisation of the sentences"
   ]
  },
  {
   "cell_type": "code",
   "execution_count": 7,
   "id": "391a0b6f-8188-4d44-8b50-5114a867e921",
   "metadata": {},
   "outputs": [],
   "source": [
    "doc_tokenized = [simple_preprocess(doc) for doc in doc_list]"
   ]
  },
  {
   "cell_type": "markdown",
   "id": "b4035485-25c7-4a74-9d7a-53d67bc3eb14",
   "metadata": {},
   "source": [
    "- Create an object of corpora.Dictionary()"
   ]
  },
  {
   "cell_type": "code",
   "execution_count": 8,
   "id": "a5f0e34e-b737-4594-95fb-26492de2fb3c",
   "metadata": {},
   "outputs": [],
   "source": [
    "dictionary = corpora.Dictionary()"
   ]
  },
  {
   "cell_type": "markdown",
   "id": "f09d1e0d-2b98-41dc-a546-a6d5376240d2",
   "metadata": {},
   "source": [
    "- Pass the tokenised sentences to dictionary.doc2bow() object"
   ]
  },
  {
   "cell_type": "code",
   "execution_count": 9,
   "id": "1dd086a7-b85d-469d-ab5d-a29b189432fe",
   "metadata": {},
   "outputs": [],
   "source": [
    "BoW_corpus = [dictionary.doc2bow(doc, allow_update=True) for doc in doc_tokenized]"
   ]
  },
  {
   "cell_type": "markdown",
   "id": "86f9682f-4f2e-4e6b-906a-245dd2bcf5e3",
   "metadata": {},
   "source": [
    "- Get the word ids and their frequencies in documents"
   ]
  },
  {
   "cell_type": "code",
   "execution_count": 10,
   "id": "bd00ea04-f653-4c46-8036-7c29b04c8cde",
   "metadata": {},
   "outputs": [
    {
     "name": "stdout",
     "output_type": "stream",
     "text": [
      "[['are', 1], ['hello', 1], ['how', 1], ['you', 1]]\n",
      "[['how', 1], ['you', 1], ['do', 2]]\n",
      "[['are', 2], ['you', 3], ['doing', 2], ['hey', 1], ['what', 2], ['yes', 1]]\n"
     ]
    }
   ],
   "source": [
    "for doc in BoW_corpus:\n",
    "    print([[dictionary[id], freq] for id, freq in doc])"
   ]
  },
  {
   "cell_type": "markdown",
   "id": "cba31650-eba0-48a3-b989-eb082ae0c74d",
   "metadata": {},
   "source": [
    "### TF-IDF Model"
   ]
  },
  {
   "cell_type": "code",
   "execution_count": 13,
   "id": "3c348f4f-d4e0-4b90-b4e5-059398782b95",
   "metadata": {},
   "outputs": [],
   "source": [
    "import numpy as np\n",
    "from gensim import models"
   ]
  },
  {
   "cell_type": "markdown",
   "id": "a7131cc5-9cc8-4cad-866a-9d51f121174e",
   "metadata": {},
   "source": [
    "- Applying trained corpus(BoW_corpus) within the square brackets of models.TfidfModel()"
   ]
  },
  {
   "cell_type": "code",
   "execution_count": 14,
   "id": "cc954741-999e-4010-b6a3-88cc1fd5e973",
   "metadata": {},
   "outputs": [],
   "source": [
    "tfidf = models.TfidfModel(BoW_corpus, smartirs='ntc')"
   ]
  },
  {
   "cell_type": "markdown",
   "id": "999ba9b6-3242-4261-acb0-ed56c97d1633",
   "metadata": {},
   "source": [
    "- Get the word ids and their frequencies in TF-IDF modeled corpus"
   ]
  },
  {
   "cell_type": "code",
   "execution_count": 16,
   "id": "4b604a97-3107-4f1a-ad96-04348d0d3d4e",
   "metadata": {},
   "outputs": [
    {
     "name": "stdout",
     "output_type": "stream",
     "text": [
      "[['are', 0.4], ['hello', 0.81], ['how', 0.4], ['you', 0.17]]\n",
      "[['how', 0.24], ['you', 0.1], ['do', 0.97]]\n",
      "[['are', 0.3], ['you', 0.18], ['doing', 0.59], ['hey', 0.3], ['what', 0.59], ['yes', 0.3]]\n"
     ]
    }
   ],
   "source": [
    "for doc in tfidf[BoW_corpus]:\n",
    "    print([[dictionary[id], np.around(freq, decimals=2)] for id, freq in doc])"
   ]
  },
  {
   "cell_type": "markdown",
   "id": "38df8e3c-b715-4d0b-a0d0-a75e2433238a",
   "metadata": {},
   "source": [
    "### Complete Implementation Example"
   ]
  },
  {
   "cell_type": "code",
   "execution_count": null,
   "id": "2a245b59-b15c-416b-82d8-3ddcd493e7ef",
   "metadata": {},
   "outputs": [],
   "source": [
    "import gensim\n",
    "import pprint\n",
    "import numpy as np\n",
    "from gensim import models\n",
    "from gensim import corpora\n",
    "from gensim.utils import simple_preprocess\n",
    "\n",
    "# Modify to Wiki\n",
    "doc_list = [\n",
    "    \"Hello, how are you?\",\n",
    "    \"How do you do?\",\n",
    "    \"Hey what are you doing? yes you What are you doing?\"\n",
    "]\n",
    "\n",
    "doc_tokenized = [simple_preprocess(doc) for doc in doc_list]\n",
    "dictionary = corpora.Dictionary()\n",
    "BoW_corpus = [dictionary.doc2bow(doc, allow_update=True) for doc in doc_tokenized]\n",
    "\n",
    "for doc in BoW_corpus:\n",
    "    print([[dictionary[id], freq] for id, freq in doc])\n",
    "    \n",
    "tfidf = models.TfidfModel(BoW_corpus, smartirs='ntc')\n",
    "    \n",
    "for doc in tfidf[BoW_corpus]:\n",
    "    print([[dictionary[id], np.around(freq, decimals=2)] for id, freq in doc])"
   ]
  }
 ],
 "metadata": {
  "kernelspec": {
   "display_name": "Python 3 (ipykernel)",
   "language": "python",
   "name": "python3"
  },
  "language_info": {
   "codemirror_mode": {
    "name": "ipython",
    "version": 3
   },
   "file_extension": ".py",
   "mimetype": "text/x-python",
   "name": "python",
   "nbconvert_exporter": "python",
   "pygments_lexer": "ipython3",
   "version": "3.8.10"
  }
 },
 "nbformat": 4,
 "nbformat_minor": 5
}
